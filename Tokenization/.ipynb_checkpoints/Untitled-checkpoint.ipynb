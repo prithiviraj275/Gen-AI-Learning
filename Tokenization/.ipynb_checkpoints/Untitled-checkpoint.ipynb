{
 "cells": [
  {
   "cell_type": "markdown",
   "id": "ae2d615e-df5c-4e11-98ea-3410795d5607",
   "metadata": {},
   "source": [
    "# Tokenization Example\n"
   ]
  },
  {
   "cell_type": "code",
   "execution_count": 5,
   "id": "374476b3-cad2-4552-8ab5-36e77d0d3a2e",
   "metadata": {},
   "outputs": [
    {
     "name": "stdout",
     "output_type": "stream",
     "text": [
      " Hi This is prithivi, I am started learning generative AI. Join me to explore the world of AI techonologies. so we are going to create the AI with new features.\n",
      "\n"
     ]
    }
   ],
   "source": [
    "corpus = \"\"\" Hi This is prithivi, I am started learning generative AI. \n",
    "Join me to explore the world of AI techonologies. so we are going to create the AI with new features.\n",
    "\"\"\"\n",
    "print(corpus)"
   ]
  },
  {
   "cell_type": "code",
   "execution_count": null,
   "id": "af9fa0a0-39d9-435c-8ea3-51188412bdcb",
   "metadata": {},
   "outputs": [],
   "source": []
  }
 ],
 "metadata": {
  "kernelspec": {
   "display_name": "Python 3 (ipykernel)",
   "language": "python",
   "name": "python3"
  },
  "language_info": {
   "codemirror_mode": {
    "name": "ipython",
    "version": 3
   },
   "file_extension": ".py",
   "mimetype": "text/x-python",
   "name": "python",
   "nbconvert_exporter": "python",
   "pygments_lexer": "ipython3",
   "version": "3.11.2"
  }
 },
 "nbformat": 4,
 "nbformat_minor": 5
}
