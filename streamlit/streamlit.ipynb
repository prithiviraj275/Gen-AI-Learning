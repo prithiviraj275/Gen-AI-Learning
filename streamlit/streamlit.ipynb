{
 "cells": [
  {
   "cell_type": "markdown",
   "id": "55873d12",
   "metadata": {},
   "source": [
    "### Streamlit"
   ]
  },
  {
   "cell_type": "markdown",
   "id": "4b0b72e6",
   "metadata": {},
   "source": [
    "* it is open source framework for create web application for machine learning and data science projects using python scripts."
   ]
  },
  {
   "cell_type": "markdown",
   "id": "a34b3f6b",
   "metadata": {},
   "source": []
  }
 ],
 "metadata": {
  "language_info": {
   "name": "python"
  }
 },
 "nbformat": 4,
 "nbformat_minor": 5
}
