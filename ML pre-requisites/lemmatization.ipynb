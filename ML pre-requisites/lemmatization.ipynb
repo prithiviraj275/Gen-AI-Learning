{
 "cells": [
  {
   "cell_type": "markdown",
   "id": "ac23c788",
   "metadata": {},
   "source": [
    "# Lemmatization\n",
    "\n",
    "#### --lemmatization is the process of reducing words to their base or dictionary form, known as a lemma. Unlike stemming, which may simply chop off word endings, lemmatization considers the context and converts the word to its meaningful base form. For example, \"running\", \"ran\", and \"runs\" are all lemmatized to \"run\". Lemmatization is commonly used in natural language processing (NLP) tasks to normalize text and improve the performance of text analysis algorithms."
   ]
  },
  {
   "cell_type": "markdown",
   "id": "50c083c9",
   "metadata": {},
   "source": [
    "# WordNet Lemmatizer\n",
    "#### WordNetLemmatizer is a class from NLTK that uses the WordNet lexical database to find the base form (lemma) of words.\n",
    "#### It considers the context and part of speech to provide accurate lemmatization.\n",
    "#### The WordNetLemmatizer reduces words to their base form using the WordNet database, considering context and part of speech for accurate lemmatization."
   ]
  },
  {
   "cell_type": "markdown",
   "id": "d2c03ddb",
   "metadata": {},
   "source": []
  },
  {
   "cell_type": "code",
   "execution_count": 11,
   "id": "67c5c8a1",
   "metadata": {},
   "outputs": [
    {
     "name": "stderr",
     "output_type": "stream",
     "text": [
      "[nltk_data] Downloading package wordnet to\n",
      "[nltk_data]     C:\\Users\\Prithivi\\AppData\\Roaming\\nltk_data...\n",
      "[nltk_data]   Package wordnet is already up-to-date!\n"
     ]
    },
    {
     "data": {
      "text/plain": [
       "True"
      ]
     },
     "execution_count": 11,
     "metadata": {},
     "output_type": "execute_result"
    }
   ],
   "source": [
    "import nltk\n",
    "from nltk.stem import WordNetLemmatizer\n",
    "\n",
    "wordnetlem = WordNetLemmatizer()\n",
    "nltk.download('wordnet')"
   ]
  },
  {
   "cell_type": "code",
   "execution_count": 12,
   "id": "b4ce0c82",
   "metadata": {},
   "outputs": [],
   "source": [
    "words = ['running', 'flies', 'better', 'children', 'geese', 'studies', 'mice', 'happier', 'swimming', 'wolves']"
   ]
  },
  {
   "cell_type": "code",
   "execution_count": 13,
   "id": "40f415c1",
   "metadata": {},
   "outputs": [
    {
     "name": "stdout",
     "output_type": "stream",
     "text": [
      "running--->run\n",
      "flies--->fly\n",
      "better--->better\n",
      "children--->children\n",
      "geese--->geese\n",
      "studies--->study\n",
      "mice--->mice\n",
      "happier--->happier\n",
      "swimming--->swim\n",
      "wolves--->wolves\n"
     ]
    }
   ],
   "source": [
    "for word in words:\n",
    "    print(word+\"--->\"+wordnetlem.lemmatize(word,pos='v'))"
   ]
  },
  {
   "cell_type": "code",
   "execution_count": null,
   "id": "26fae668",
   "metadata": {},
   "outputs": [],
   "source": []
  },
  {
   "cell_type": "code",
   "execution_count": null,
   "id": "3b157158",
   "metadata": {},
   "outputs": [],
   "source": []
  }
 ],
 "metadata": {
  "kernelspec": {
   "display_name": "genAIenv",
   "language": "python",
   "name": "python3"
  },
  "language_info": {
   "codemirror_mode": {
    "name": "ipython",
    "version": 3
   },
   "file_extension": ".py",
   "mimetype": "text/x-python",
   "name": "python",
   "nbconvert_exporter": "python",
   "pygments_lexer": "ipython3",
   "version": "3.11.2"
  }
 },
 "nbformat": 4,
 "nbformat_minor": 5
}
