{
 "cells": [
  {
   "cell_type": "markdown",
   "id": "47804d81",
   "metadata": {},
   "source": [
    "# Parts of speech tagging"
   ]
  },
  {
   "cell_type": "markdown",
   "id": "f76db89b",
   "metadata": {},
   "source": [
    "Parts of speech (POS) tagging is the process of labeling each word in a sentence with its corresponding part of speech, such as noun, verb, adjective, adverb, etc. This is a fundamental task in natural language processing (NLP) that helps computers understand the grammatical structure of text. POS tagging enables further analysis like parsing, information extraction, and machine translation by providing syntactic information about each word in a sentence."
   ]
  },
  {
   "cell_type": "markdown",
   "id": "6759d513",
   "metadata": {},
   "source": [
    "- **CC**: Coordinating conjunction  \n",
    "- **CD**: Cardinal number  \n",
    "- **DT**: Determiner  \n",
    "- **EX**: Existential there  \n",
    "- **FW**: Foreign word  \n",
    "- **IN**: Preposition or subordinating conjunction  \n",
    "- **JJ**: Adjective  \n",
    "- **JJR**: Adjective, comparative  \n",
    "- **JJS**: Adjective, superlative  \n",
    "- **LS**: List item marker  \n",
    "- **MD**: Modal  \n",
    "- **NN**: Noun, singular or mass  \n",
    "- **NNS**: Noun, plural  \n",
    "- **NNP**: Proper noun, singular  \n",
    "- **NNPS**: Proper noun, plural  \n",
    "- **PDT**: Predeterminer  \n",
    "- **POS**: Possessive ending  \n",
    "- **PRP**: Personal pronoun  \n",
    "- **PRP$**: Possessive pronoun  \n",
    "- **RB**: Adverb  \n",
    "- **RBR**: Adverb, comparative  \n",
    "- **RBS**: Adverb, superlative  \n",
    "- **RP**: Particle  \n",
    "- **SYM**: Symbol  \n",
    "- **TO**: to  \n",
    "- **UH**: Interjection  \n",
    "- **VB**: Verb, base form  \n",
    "- **VBD**: Verb, past tense  \n",
    "- **VBG**: Verb, gerund or present participle  \n",
    "- **VBN**: Verb, past participle  \n",
    "- **VBP**: Verb, non-3rd person singular present  \n",
    "- **VBZ**: Verb, 3rd person singular present  \n",
    "- **WDT**: Wh-determiner  \n",
    "- **WP**: Wh-pronoun  \n",
    "- **WP$**: Possessive wh-pronoun  \n",
    "- **WRB**: Wh-adverb"
   ]
  },
  {
   "cell_type": "markdown",
   "id": "632c2998",
   "metadata": {},
   "source": []
  },
  {
   "cell_type": "code",
   "execution_count": 5,
   "id": "9648eb24",
   "metadata": {},
   "outputs": [],
   "source": [
    "corpus =\"\"\"Once upon a time, in a colorful forest, there lived a curious rabbit named Ruby. Ruby loved to explore and make new friends. One sunny morning, she hopped out of her burrow and met a wise old owl named Oliver. Oliver told Ruby about a hidden garden filled with magical flowers.\n",
    "\n",
    "Excited, Ruby invited her friends—Benny the bear and Sally the squirrel—to join the adventure. Together, they followed clues, crossed a sparkling stream, and solved riddles left by the clever fox, Felix. At last, they found the secret garden, where the flowers glowed in every color of the rainbow.\n",
    "\n",
    "The friends danced and played among the blossoms, promising to always help each other and share their discoveries. From that day on, Ruby, Benny, Sally, and Oliver explored the forest together, making every day a new adventure.\"\"\""
   ]
  },
  {
   "cell_type": "code",
   "execution_count": 17,
   "id": "38c87371",
   "metadata": {},
   "outputs": [
    {
     "name": "stdout",
     "output_type": "stream",
     "text": [
      "['Once upon a time, in a colorful forest, there lived a curious rabbit named Ruby.', 'Ruby loved to explore and make new friends.', 'One sunny morning, she hopped out of her burrow and met a wise old owl named Oliver.', 'Oliver told Ruby about a hidden garden filled with magical flowers.', 'Excited, Ruby invited her friends—Benny the bear and Sally the squirrel—to join the adventure.', 'Together, they followed clues, crossed a sparkling stream, and solved riddles left by the clever fox, Felix.', 'At last, they found the secret garden, where the flowers glowed in every color of the rainbow.', 'The friends danced and played among the blossoms, promising to always help each other and share their discoveries.', 'From that day on, Ruby, Benny, Sally, and Oliver explored the forest together, making every day a new adventure.']\n"
     ]
    }
   ],
   "source": [
    "from nltk.tokenize import sent_tokenize\n",
    "\n",
    "sentences = sent_tokenize(corpus)\n",
    "print(sentences)"
   ]
  },
  {
   "cell_type": "code",
   "execution_count": 19,
   "id": "6f4ed01f",
   "metadata": {},
   "outputs": [
    {
     "name": "stderr",
     "output_type": "stream",
     "text": [
      "[nltk_data] Downloading package averaged_perceptron_tagger_eng to\n",
      "[nltk_data]     C:\\Users\\Prithivi\\AppData\\Roaming\\nltk_data...\n",
      "[nltk_data]   Unzipping taggers\\averaged_perceptron_tagger_eng.zip.\n"
     ]
    },
    {
     "name": "stdout",
     "output_type": "stream",
     "text": [
      "[('Once', 'RB'), ('upon', 'IN'), ('a', 'DT'), ('time', 'NN'), (',', ','), ('in', 'IN'), ('a', 'DT'), ('colorful', 'JJ'), ('forest', 'NN'), (',', ','), ('there', 'EX'), ('lived', 'VBD'), ('a', 'DT'), ('curious', 'JJ'), ('rabbit', 'NN'), ('named', 'VBN'), ('Ruby', 'NNP'), ('.', '.'), ('Ruby', 'NNP'), ('loved', 'VBD'), ('to', 'TO'), ('explore', 'VB'), ('and', 'CC'), ('make', 'VB'), ('new', 'JJ'), ('friends', 'NNS'), ('.', '.'), ('One', 'CD'), ('sunny', 'JJ'), ('morning', 'NN'), (',', ','), ('she', 'PRP'), ('hopped', 'VBD'), ('out', 'IN'), ('of', 'IN'), ('her', 'PRP$'), ('burrow', 'NN'), ('and', 'CC'), ('met', 'VBD'), ('a', 'DT'), ('wise', 'NN'), ('old', 'JJ'), ('owl', 'NN'), ('named', 'VBN'), ('Oliver', 'NNP'), ('.', '.'), ('Oliver', 'NNP'), ('told', 'VBD'), ('Ruby', 'NNP'), ('about', 'IN'), ('a', 'DT'), ('hidden', 'JJ'), ('garden', 'NN'), ('filled', 'VBN'), ('with', 'IN'), ('magical', 'JJ'), ('flowers', 'NNS'), ('.', '.'), ('Excited', 'NNP'), (',', ','), ('Ruby', 'NNP'), ('invited', 'VBD'), ('her', 'PRP$'), ('friends—Benny', 'NN'), ('the', 'DT'), ('bear', 'NN'), ('and', 'CC'), ('Sally', 'NNP'), ('the', 'DT'), ('squirrel—to', 'NN'), ('join', 'VBZ'), ('the', 'DT'), ('adventure', 'NN'), ('.', '.'), ('Together', 'RB'), (',', ','), ('they', 'PRP'), ('followed', 'VBD'), ('clues', 'NNS'), (',', ','), ('crossed', 'VBD'), ('a', 'DT'), ('sparkling', 'NN'), ('stream', 'NN'), (',', ','), ('and', 'CC'), ('solved', 'VBD'), ('riddles', 'NNS'), ('left', 'VBN'), ('by', 'IN'), ('the', 'DT'), ('clever', 'NN'), ('fox', 'NN'), (',', ','), ('Felix', 'NNP'), ('.', '.'), ('At', 'IN'), ('last', 'JJ'), (',', ','), ('they', 'PRP'), ('found', 'VBD'), ('the', 'DT'), ('secret', 'JJ'), ('garden', 'NN'), (',', ','), ('where', 'WRB'), ('the', 'DT'), ('flowers', 'NNS'), ('glowed', 'VBD'), ('in', 'IN'), ('every', 'DT'), ('color', 'NN'), ('of', 'IN'), ('the', 'DT'), ('rainbow', 'NN'), ('.', '.'), ('The', 'DT'), ('friends', 'NNS'), ('danced', 'VBN'), ('and', 'CC'), ('played', 'VBN'), ('among', 'IN'), ('the', 'DT'), ('blossoms', 'NNS'), (',', ','), ('promising', 'VBG'), ('to', 'TO'), ('always', 'RB'), ('help', 'VB'), ('each', 'DT'), ('other', 'JJ'), ('and', 'CC'), ('share', 'NN'), ('their', 'PRP$'), ('discoveries', 'NNS'), ('.', '.'), ('From', 'IN'), ('that', 'DT'), ('day', 'NN'), ('on', 'IN'), (',', ','), ('Ruby', 'NNP'), (',', ','), ('Benny', 'NNP'), (',', ','), ('Sally', 'NNP'), (',', ','), ('and', 'CC'), ('Oliver', 'NNP'), ('explored', 'VBD'), ('the', 'DT'), ('forest', 'JJS'), ('together', 'RB'), (',', ','), ('making', 'VBG'), ('every', 'DT'), ('day', 'NN'), ('a', 'DT'), ('new', 'JJ'), ('adventure', 'NN'), ('.', '.')]\n"
     ]
    }
   ],
   "source": [
    "import nltk\n",
    "from nltk import word_tokenize, pos_tag\n",
    "nltk.download('averaged_perceptron_tagger_eng')\n",
    "# Flatten all words from all sentences\n",
    "all_words = [word for sentence in sentences for word in word_tokenize(sentence)]\n",
    "\n",
    "# POS tagging for all words\n",
    "pos_tags = pos_tag(all_words)\n",
    "print(pos_tags)"
   ]
  },
  {
   "cell_type": "code",
   "execution_count": 20,
   "id": "de44f193",
   "metadata": {},
   "outputs": [
    {
     "data": {
      "text/plain": [
       "[('Once', 'RB'),\n",
       " ('upon', 'IN'),\n",
       " ('a', 'DT'),\n",
       " ('time', 'NN'),\n",
       " (',', ','),\n",
       " ('in', 'IN'),\n",
       " ('a', 'DT'),\n",
       " ('colorful', 'JJ'),\n",
       " ('forest', 'NN'),\n",
       " (',', ','),\n",
       " ('there', 'EX'),\n",
       " ('lived', 'VBD'),\n",
       " ('a', 'DT'),\n",
       " ('curious', 'JJ'),\n",
       " ('rabbit', 'NN'),\n",
       " ('named', 'VBN'),\n",
       " ('Ruby', 'NNP'),\n",
       " ('.', '.'),\n",
       " ('Ruby', 'NNP'),\n",
       " ('loved', 'VBD'),\n",
       " ('to', 'TO'),\n",
       " ('explore', 'VB'),\n",
       " ('and', 'CC'),\n",
       " ('make', 'VB'),\n",
       " ('new', 'JJ'),\n",
       " ('friends', 'NNS'),\n",
       " ('.', '.'),\n",
       " ('One', 'CD'),\n",
       " ('sunny', 'JJ'),\n",
       " ('morning', 'NN'),\n",
       " (',', ','),\n",
       " ('she', 'PRP'),\n",
       " ('hopped', 'VBD'),\n",
       " ('out', 'IN'),\n",
       " ('of', 'IN'),\n",
       " ('her', 'PRP$'),\n",
       " ('burrow', 'NN'),\n",
       " ('and', 'CC'),\n",
       " ('met', 'VBD'),\n",
       " ('a', 'DT'),\n",
       " ('wise', 'NN'),\n",
       " ('old', 'JJ'),\n",
       " ('owl', 'NN'),\n",
       " ('named', 'VBN'),\n",
       " ('Oliver', 'NNP'),\n",
       " ('.', '.'),\n",
       " ('Oliver', 'NNP'),\n",
       " ('told', 'VBD'),\n",
       " ('Ruby', 'NNP'),\n",
       " ('about', 'IN'),\n",
       " ('a', 'DT'),\n",
       " ('hidden', 'JJ'),\n",
       " ('garden', 'NN'),\n",
       " ('filled', 'VBN'),\n",
       " ('with', 'IN'),\n",
       " ('magical', 'JJ'),\n",
       " ('flowers', 'NNS'),\n",
       " ('.', '.'),\n",
       " ('Excited', 'NNP'),\n",
       " (',', ','),\n",
       " ('Ruby', 'NNP'),\n",
       " ('invited', 'VBD'),\n",
       " ('her', 'PRP$'),\n",
       " ('friends—Benny', 'NN'),\n",
       " ('the', 'DT'),\n",
       " ('bear', 'NN'),\n",
       " ('and', 'CC'),\n",
       " ('Sally', 'NNP'),\n",
       " ('the', 'DT'),\n",
       " ('squirrel—to', 'NN'),\n",
       " ('join', 'VBZ'),\n",
       " ('the', 'DT'),\n",
       " ('adventure', 'NN'),\n",
       " ('.', '.'),\n",
       " ('Together', 'RB'),\n",
       " (',', ','),\n",
       " ('they', 'PRP'),\n",
       " ('followed', 'VBD'),\n",
       " ('clues', 'NNS'),\n",
       " (',', ','),\n",
       " ('crossed', 'VBD'),\n",
       " ('a', 'DT'),\n",
       " ('sparkling', 'NN'),\n",
       " ('stream', 'NN'),\n",
       " (',', ','),\n",
       " ('and', 'CC'),\n",
       " ('solved', 'VBD'),\n",
       " ('riddles', 'NNS'),\n",
       " ('left', 'VBN'),\n",
       " ('by', 'IN'),\n",
       " ('the', 'DT'),\n",
       " ('clever', 'NN'),\n",
       " ('fox', 'NN'),\n",
       " (',', ','),\n",
       " ('Felix', 'NNP'),\n",
       " ('.', '.'),\n",
       " ('At', 'IN'),\n",
       " ('last', 'JJ'),\n",
       " (',', ','),\n",
       " ('they', 'PRP'),\n",
       " ('found', 'VBD'),\n",
       " ('the', 'DT'),\n",
       " ('secret', 'JJ'),\n",
       " ('garden', 'NN'),\n",
       " (',', ','),\n",
       " ('where', 'WRB'),\n",
       " ('the', 'DT'),\n",
       " ('flowers', 'NNS'),\n",
       " ('glowed', 'VBD'),\n",
       " ('in', 'IN'),\n",
       " ('every', 'DT'),\n",
       " ('color', 'NN'),\n",
       " ('of', 'IN'),\n",
       " ('the', 'DT'),\n",
       " ('rainbow', 'NN'),\n",
       " ('.', '.'),\n",
       " ('The', 'DT'),\n",
       " ('friends', 'NNS'),\n",
       " ('danced', 'VBN'),\n",
       " ('and', 'CC'),\n",
       " ('played', 'VBN'),\n",
       " ('among', 'IN'),\n",
       " ('the', 'DT'),\n",
       " ('blossoms', 'NNS'),\n",
       " (',', ','),\n",
       " ('promising', 'VBG'),\n",
       " ('to', 'TO'),\n",
       " ('always', 'RB'),\n",
       " ('help', 'VB'),\n",
       " ('each', 'DT'),\n",
       " ('other', 'JJ'),\n",
       " ('and', 'CC'),\n",
       " ('share', 'NN'),\n",
       " ('their', 'PRP$'),\n",
       " ('discoveries', 'NNS'),\n",
       " ('.', '.'),\n",
       " ('From', 'IN'),\n",
       " ('that', 'DT'),\n",
       " ('day', 'NN'),\n",
       " ('on', 'IN'),\n",
       " (',', ','),\n",
       " ('Ruby', 'NNP'),\n",
       " (',', ','),\n",
       " ('Benny', 'NNP'),\n",
       " (',', ','),\n",
       " ('Sally', 'NNP'),\n",
       " (',', ','),\n",
       " ('and', 'CC'),\n",
       " ('Oliver', 'NNP'),\n",
       " ('explored', 'VBD'),\n",
       " ('the', 'DT'),\n",
       " ('forest', 'JJS'),\n",
       " ('together', 'RB'),\n",
       " (',', ','),\n",
       " ('making', 'VBG'),\n",
       " ('every', 'DT'),\n",
       " ('day', 'NN'),\n",
       " ('a', 'DT'),\n",
       " ('new', 'JJ'),\n",
       " ('adventure', 'NN'),\n",
       " ('.', '.')]"
      ]
     },
     "execution_count": 20,
     "metadata": {},
     "output_type": "execute_result"
    }
   ],
   "source": [
    "pos_tags"
   ]
  },
  {
   "cell_type": "code",
   "execution_count": 21,
   "id": "a291d9af",
   "metadata": {},
   "outputs": [
    {
     "name": "stdout",
     "output_type": "stream",
     "text": [
      "[('taj', 'NN'), ('mahal', 'NN'), ('is', 'VBZ'), ('a', 'DT'), ('beautiful', 'JJ'), ('monument', 'NN')]\n"
     ]
    }
   ],
   "source": [
    "print(nltk.pos_tag('taj mahal is a beautiful monument'.split()))"
   ]
  },
  {
   "cell_type": "code",
   "execution_count": null,
   "id": "7384b63a",
   "metadata": {},
   "outputs": [],
   "source": []
  }
 ],
 "metadata": {
  "kernelspec": {
   "display_name": "genAIenv",
   "language": "python",
   "name": "python3"
  },
  "language_info": {
   "codemirror_mode": {
    "name": "ipython",
    "version": 3
   },
   "file_extension": ".py",
   "mimetype": "text/x-python",
   "name": "python",
   "nbconvert_exporter": "python",
   "pygments_lexer": "ipython3",
   "version": "3.11.2"
  }
 },
 "nbformat": 4,
 "nbformat_minor": 5
}
