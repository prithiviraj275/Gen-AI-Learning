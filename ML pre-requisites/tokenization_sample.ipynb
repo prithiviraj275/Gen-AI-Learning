{
 "cells": [
  {
   "cell_type": "markdown",
   "id": "ae2d615e-df5c-4e11-98ea-3410795d5607",
   "metadata": {},
   "source": [
    "# Tokenization Example\n"
   ]
  },
  {
   "cell_type": "code",
   "execution_count": 13,
   "id": "374476b3-cad2-4552-8ab5-36e77d0d3a2e",
   "metadata": {},
   "outputs": [
    {
     "name": "stdout",
     "output_type": "stream",
     "text": [
      " Hi This is prithivi, I am started learning generative AI. \n",
      "Join me to explore the world of AI techonologies. so we are going to create the AI with new features.\n",
      "\n"
     ]
    }
   ],
   "source": [
    "corpus = \"\"\" Hi This is prithivi, I am started learning generative AI. \n",
    "Join me to explore the world of AI techonologies. so we are going to create the AI with new features.\n",
    "\"\"\"\n",
    "print(corpus)"
   ]
  },
  {
   "cell_type": "code",
   "execution_count": 14,
   "id": "2ff7de9b-2399-4955-868b-7a812e40e6d3",
   "metadata": {},
   "outputs": [
    {
     "name": "stdout",
     "output_type": "stream",
     "text": [
      "[' Hi This is prithivi, I am started learning generative AI.', 'Join me to explore the world of AI techonologies.', 'so we are going to create the AI with new features.']\n"
     ]
    }
   ],
   "source": [
    "## Tokenization\n",
    "## paragraph --> sentences\n",
    "\n",
    "from nltk.tokenize import sent_tokenize,word_tokenize\n",
    "\n",
    "\n",
    "sentences = sent_tokenize(corpus)\n",
    "print(sentences)"
   ]
  },
  {
   "cell_type": "code",
   "execution_count": 15,
   "id": "46f77ffd-d95a-49d5-b3fb-d903bd7976ec",
   "metadata": {},
   "outputs": [
    {
     "name": "stdout",
     "output_type": "stream",
     "text": [
      " Hi This is prithivi, I am started learning generative AI.\n",
      "Join me to explore the world of AI techonologies.\n",
      "so we are going to create the AI with new features.\n"
     ]
    }
   ],
   "source": [
    "for sentence in sentences:\n",
    "    \n",
    "    print(sentence)"
   ]
  },
  {
   "cell_type": "code",
   "execution_count": 16,
   "id": "7c9384b9",
   "metadata": {},
   "outputs": [],
   "source": [
    "## Tokenization\n",
    "## paragraph --> words\n",
    "## sentence --> words\n",
    "from nltk.tokenize import word_tokenize\n",
    "words = word_tokenize(corpus)"
   ]
  },
  {
   "cell_type": "code",
   "execution_count": 17,
   "id": "245c1e64",
   "metadata": {},
   "outputs": [
    {
     "name": "stdout",
     "output_type": "stream",
     "text": [
      "['Hi', 'This', 'is', 'prithivi', ',', 'I', 'am', 'started', 'learning', 'generative', 'AI', '.', 'Join', 'me', 'to', 'explore', 'the', 'world', 'of', 'AI', 'techonologies', '.', 'so', 'we', 'are', 'going', 'to', 'create', 'the', 'AI', 'with', 'new', 'features', '.']\n"
     ]
    }
   ],
   "source": [
    "print(words)"
   ]
  },
  {
   "cell_type": "code",
   "execution_count": 18,
   "id": "fb73cae7",
   "metadata": {},
   "outputs": [
    {
     "name": "stdout",
     "output_type": "stream",
     "text": [
      "Hi\n",
      "This\n",
      "is\n",
      "prithivi\n",
      ",\n",
      "I\n",
      "am\n",
      "started\n",
      "learning\n",
      "generative\n",
      "AI\n",
      ".\n",
      "Join\n",
      "me\n",
      "to\n",
      "explore\n",
      "the\n",
      "world\n",
      "of\n",
      "AI\n",
      "techonologies\n",
      ".\n",
      "so\n",
      "we\n",
      "are\n",
      "going\n",
      "to\n",
      "create\n",
      "the\n",
      "AI\n",
      "with\n",
      "new\n",
      "features\n",
      ".\n"
     ]
    }
   ],
   "source": [
    "for word in words:\n",
    "    print(word)"
   ]
  },
  {
   "cell_type": "code",
   "execution_count": 19,
   "id": "cfc1f95a",
   "metadata": {},
   "outputs": [
    {
     "name": "stdout",
     "output_type": "stream",
     "text": [
      "['Hi', 'This', 'is', 'prithivi', ',', 'I', 'am', 'started', 'learning', 'generative', 'AI', '.', 'Join', 'me', 'to', 'explore', 'the', 'world', 'of', 'AI', 'techonologies', '.', 'so', 'we', 'are', 'going', 'to', 'create', 'the', 'AI', 'with', 'new', 'features', '.']\n"
     ]
    }
   ],
   "source": [
    "## this library split the words based on the space and punctuation \n",
    "from nltk.tokenize import wordpunct_tokenize\n",
    "word_punct = wordpunct_tokenize(corpus)\n",
    "print(word_punct)"
   ]
  },
  {
   "cell_type": "code",
   "execution_count": 20,
   "id": "ee80cc7c",
   "metadata": {},
   "outputs": [
    {
     "name": "stdout",
     "output_type": "stream",
     "text": [
      "['Hi', 'This', 'is', 'prithivi', ',', 'I', 'am', 'started', 'learning', 'generative', 'AI.', 'Join', 'me', 'to', 'explore', 'the', 'world', 'of', 'AI', 'techonologies.', 'so', 'we', 'are', 'going', 'to', 'create', 'the', 'AI', 'with', 'new', 'features', '.']\n"
     ]
    }
   ],
   "source": [
    "from nltk.tokenize import TreebankWordTokenizer\n",
    "treebank_tokenizer = TreebankWordTokenizer()\n",
    "treebank_words = treebank_tokenizer.tokenize(corpus)\n",
    "print(treebank_words)"
   ]
  },
  {
   "cell_type": "code",
   "execution_count": null,
   "id": "4af08d7f",
   "metadata": {},
   "outputs": [],
   "source": []
  },
  {
   "cell_type": "code",
   "execution_count": null,
   "id": "243ea3ea",
   "metadata": {},
   "outputs": [],
   "source": []
  }
 ],
 "metadata": {
  "kernelspec": {
   "display_name": "genAIenv",
   "language": "python",
   "name": "python3"
  },
  "language_info": {
   "codemirror_mode": {
    "name": "ipython",
    "version": 3
   },
   "file_extension": ".py",
   "mimetype": "text/x-python",
   "name": "python",
   "nbconvert_exporter": "python",
   "pygments_lexer": "ipython3",
   "version": "3.11.2"
  }
 },
 "nbformat": 4,
 "nbformat_minor": 5
}
